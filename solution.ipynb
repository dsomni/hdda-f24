{
 "cells": [
  {
   "cell_type": "markdown",
   "metadata": {},
   "source": [
    "# HDDA F24 Recommendation systems via approximate matrix factorization\n",
    "\n",
    "by Dmitry Beresnev (<d.beresnev@innopolis.university>)\n",
    "and Vsevolod Klyushev (<v.klyushev@innopolis.university>)\n",
    "\n",
    "Group ID = 1\n"
   ]
  },
  {
   "cell_type": "code",
   "execution_count": 1,
   "metadata": {},
   "outputs": [],
   "source": [
    "from typing import Callable, Literal, Optional\n",
    "\n",
    "import matplotlib.pyplot as plt\n",
    "import numpy as np\n",
    "import pandas as pd\n",
    "import scipy\n",
    "import sklearn\n",
    "import tqdm\n",
    "from scipy.sparse import csr_matrix\n",
    "from sklearn.impute import SimpleImputer"
   ]
  },
  {
   "cell_type": "markdown",
   "metadata": {},
   "source": [
    "## Utilities\n"
   ]
  },
  {
   "cell_type": "code",
   "execution_count": 3,
   "metadata": {},
   "outputs": [],
   "source": [
    "def get_params_combinations(params: list[list]):\n",
    "    if len(params) == 0:\n",
    "        return [[]]\n",
    "    return [(x, *k) for k in get_params_combinations(params[1:]) for x in params[0]]\n",
    "\n",
    "\n",
    "def get_params_combinations_dict(possible_params_dict: dict[str, list]):\n",
    "    if len(possible_params_dict) == 0:\n",
    "        return [{}]\n",
    "    dict_items = list(possible_params_dict.items())\n",
    "\n",
    "    first_item = dict_items[0]\n",
    "\n",
    "    if not isinstance(first_item[1], list):\n",
    "        return [\n",
    "            {first_item[0]: first_item[1], **k}\n",
    "            for k in get_params_combinations_dict(dict(dict_items[1:]))\n",
    "        ]\n",
    "\n",
    "    return [\n",
    "        {first_item[0]: x, **k}\n",
    "        for k in get_params_combinations_dict(dict(dict_items[1:]))\n",
    "        for x in first_item[1]\n",
    "    ]"
   ]
  },
  {
   "cell_type": "code",
   "execution_count": 4,
   "metadata": {},
   "outputs": [],
   "source": [
    "def rmse_score(\n",
    "    initial_matrix: np.ndarray, predicted_matrix: np.ndarray, test_mask: np.ndarray\n",
    ") -> float:\n",
    "    differences = (initial_matrix[test_mask] - predicted_matrix[test_mask]) ** 2\n",
    "    return np.sqrt(differences.mean()).item()"
   ]
  },
  {
   "cell_type": "code",
   "execution_count": 5,
   "metadata": {},
   "outputs": [],
   "source": [
    "def choose_best(\n",
    "    matrix: np.ndarray,\n",
    "    mask: np.ndarray,\n",
    "    solver: Callable,\n",
    "    loss_fn: Callable[[np.ndarray], float],\n",
    "    possible_params: dict,\n",
    ") -> tuple[np.ndarray, float, dict, dict]:\n",
    "    best_loss = 1e3\n",
    "    best_solution = np.zeros(1)\n",
    "    best_params = {}\n",
    "\n",
    "    log_dicts = {}\n",
    "\n",
    "    for params in get_params_combinations_dict(possible_params):\n",
    "        solution, log_dict = solver(matrix, mask, **params)\n",
    "        log_dicts[str(params)] = log_dict\n",
    "\n",
    "        loss = loss_fn(solution)\n",
    "\n",
    "        if loss < best_loss:\n",
    "            best_loss = loss\n",
    "            best_solution = solution.copy()\n",
    "            best_params = params.copy()\n",
    "\n",
    "    return best_solution, best_loss, best_params, log_dicts"
   ]
  },
  {
   "cell_type": "code",
   "execution_count": 6,
   "metadata": {},
   "outputs": [],
   "source": [
    "def plot_log_dicts(log_dicts: dict, title: str):\n",
    "    for name, log_dict in log_dicts.items():\n",
    "        plt.plot(log_dict[\"iteration\"], log_dict[\"objective\"], label=name)\n",
    "\n",
    "    plt.xlabel(\"Iteration\")\n",
    "    plt.ylabel(\"Objective, log\")\n",
    "    plt.legend(loc=\"lower left\", bbox_to_anchor=(0, -0.3))\n",
    "    plt.yscale(\"log\")\n",
    "    plt.title(title)\n",
    "    plt.show()"
   ]
  },
  {
   "cell_type": "code",
   "execution_count": 7,
   "metadata": {},
   "outputs": [],
   "source": [
    "def train_test_split_matrix(\n",
    "    matrix: np.ndarray, mask: np.ndarray, test_percent: float, seed=420\n",
    ") -> tuple[np.ndarray, np.ndarray, np.ndarray]:\n",
    "    np.random.seed(seed)\n",
    "\n",
    "    train_matrix = matrix.copy().flatten()\n",
    "    train_mask = mask.copy().flatten()\n",
    "    test_mask = np.zeros(mask.shape).astype(bool).flatten()\n",
    "\n",
    "    existing_indices = np.argsort(~train_mask)[: np.sum(train_mask)]\n",
    "    test_indices = np.random.choice(\n",
    "        existing_indices, int(existing_indices.shape[0] * test_percent), replace=False\n",
    "    )\n",
    "\n",
    "    train_matrix[test_indices] = 0.0\n",
    "    train_mask[test_indices] = False\n",
    "    test_mask[test_indices] = True\n",
    "\n",
    "    matrix_shape = matrix.shape\n",
    "\n",
    "    return train_matrix.reshape(matrix_shape), train_mask.reshape(\n",
    "        matrix_shape\n",
    "    ), test_mask.reshape(matrix_shape)"
   ]
  },
  {
   "cell_type": "markdown",
   "metadata": {},
   "source": [
    "## Data loading\n"
   ]
  },
  {
   "cell_type": "markdown",
   "metadata": {},
   "source": [
    "### Toy data\n"
   ]
  },
  {
   "cell_type": "code",
   "execution_count": 8,
   "metadata": {},
   "outputs": [],
   "source": [
    "toy_matrix_full = np.array(\n",
    "    [\n",
    "        [2, 3, 2, 0, 0],\n",
    "        [0, 2, 0, 4, 3],\n",
    "        [3, 0, 3, 0, 4],\n",
    "        [0, 3, 0, 4, 3],\n",
    "        [0, 0, 0, 0, 2],\n",
    "        [1, 4, 3, 4, 0],\n",
    "    ]\n",
    ")  # 0  for unknown\n",
    "\n",
    "toy_mask_full = toy_matrix_full != 0"
   ]
  },
  {
   "cell_type": "code",
   "execution_count": 9,
   "metadata": {},
   "outputs": [],
   "source": [
    "toy_matrix, toy_mask, toy_test_mask = train_test_split_matrix(\n",
    "    toy_matrix_full, toy_mask_full, test_percent=0.2\n",
    ")"
   ]
  },
  {
   "cell_type": "markdown",
   "metadata": {},
   "source": [
    "### Real data\n"
   ]
  },
  {
   "cell_type": "code",
   "execution_count": 10,
   "metadata": {},
   "outputs": [],
   "source": [
    "def load_real_data() -> tuple[np.ndarray, np.ndarray]:\n",
    "    data = scipy.io.loadmat(\"./data/Data/matlab/inputX.mat\")\n",
    "    x = csr_matrix(data[\"X\"]).toarray()\n",
    "    mask = x != 0\n",
    "    return x, mask\n",
    "\n",
    "\n",
    "real_matrix_full, real_mask_full = load_real_data()"
   ]
  },
  {
   "cell_type": "code",
   "execution_count": 11,
   "metadata": {},
   "outputs": [
    {
     "name": "stdout",
     "output_type": "stream",
     "text": [
      "Test size: 8001\n"
     ]
    }
   ],
   "source": [
    "real_matrix, real_mask, real_test_mask = train_test_split_matrix(\n",
    "    real_matrix_full, real_mask_full, test_percent=0.01\n",
    ")\n",
    "\n",
    "print(f\"Test size: {int(real_test_mask.sum())}\")"
   ]
  },
  {
   "cell_type": "markdown",
   "metadata": {},
   "source": [
    "## Test real data\n"
   ]
  },
  {
   "cell_type": "code",
   "execution_count": 12,
   "metadata": {},
   "outputs": [
    {
     "data": {
      "text/plain": [
       "array([  593,  3104,  1544, ..., 40305, 39553, 39565], dtype=uint16)"
      ]
     },
     "execution_count": 12,
     "metadata": {},
     "output_type": "execute_result"
    }
   ],
   "source": [
    "def load_real_test_flatten_indices(real_matrix_shape: tuple) -> np.ndarray:\n",
    "    data = scipy.io.loadmat(\"./data/Data/matlab/inputEval.mat\")\n",
    "    x = data[\"Eval\"]\n",
    "    rows_indices = x[:, 0] - 1\n",
    "    columns_indices = x[:, 1] - 1\n",
    "    return rows_indices * real_matrix_shape[0] + columns_indices\n",
    "\n",
    "\n",
    "real_test_flatten_indices = load_real_test_flatten_indices(real_matrix.shape)\n",
    "real_test_flatten_indices"
   ]
  },
  {
   "cell_type": "code",
   "execution_count": 13,
   "metadata": {},
   "outputs": [],
   "source": [
    "def save_solution(\n",
    "    matrix: np.ndarray,\n",
    "    test_flatten_indices: np.ndarray = real_test_flatten_indices,\n",
    "    prefix: str = \"\",\n",
    "    decimals: int = 4,\n",
    "):\n",
    "    predictions = np.round(matrix.flatten()[test_flatten_indices], decimals=decimals)\n",
    "    results = pd.DataFrame(\n",
    "        predictions, columns=[\"Rating\"], index=np.arange(1, predictions.shape[0] + 1)\n",
    "    )\n",
    "    results.to_csv(f\"./solutions/{prefix}submission.csv\", index_label=\"ID\")"
   ]
  },
  {
   "cell_type": "markdown",
   "metadata": {},
   "source": [
    "## Block coordinate descent\n"
   ]
  },
  {
   "cell_type": "code",
   "execution_count": null,
   "metadata": {},
   "outputs": [],
   "source": [
    "class Optimizer:\n",
    "    def step(self, x: np.ndarray, grad: np.ndarray, lr: float, k: int) -> np.ndarray:\n",
    "        raise NotImplementedError\n",
    "\n",
    "\n",
    "class GradientDescent(Optimizer):\n",
    "    def step(self, x: np.ndarray, grad: np.ndarray, lr: float, k: int) -> np.ndarray:\n",
    "        return x - lr * grad\n",
    "\n",
    "\n",
    "class Nesterov(Optimizer):\n",
    "    def __init__(self, beta: float = 0.99):\n",
    "        self.beta = beta\n",
    "\n",
    "    def step(self, x: np.ndarray, grad: np.ndarray, lr: float, k: int) -> np.ndarray:\n",
    "        if k == 0:\n",
    "            self.h = grad.copy()\n",
    "        else:\n",
    "            self.h = self.beta * self.h_prev + grad\n",
    "        g = grad + self.beta * self.h\n",
    "        self.h_prev = self.h.copy()\n",
    "        return x - lr * g"
   ]
  },
  {
   "cell_type": "code",
   "execution_count": 1,
   "metadata": {},
   "outputs": [
    {
     "ename": "NameError",
     "evalue": "name 'np' is not defined",
     "output_type": "error",
     "traceback": [
      "\u001b[1;31m---------------------------------------------------------------------------\u001b[0m",
      "\u001b[1;31mNameError\u001b[0m                                 Traceback (most recent call last)",
      "Cell \u001b[1;32mIn[1], line 2\u001b[0m\n\u001b[0;32m      1\u001b[0m \u001b[38;5;28;01mdef\u001b[39;00m \u001b[38;5;21minit_gd\u001b[39m(\n\u001b[1;32m----> 2\u001b[0m     matrix: \u001b[43mnp\u001b[49m\u001b[38;5;241m.\u001b[39mndarray,\n\u001b[0;32m      3\u001b[0m     mask: np\u001b[38;5;241m.\u001b[39mndarray,\n\u001b[0;32m      4\u001b[0m     rank: \u001b[38;5;28mint\u001b[39m,\n\u001b[0;32m      5\u001b[0m     strategy: Literal[\u001b[38;5;124m\"\u001b[39m\u001b[38;5;124mrandom\u001b[39m\u001b[38;5;124m\"\u001b[39m, \u001b[38;5;124m\"\u001b[39m\u001b[38;5;124msvd\u001b[39m\u001b[38;5;124m\"\u001b[39m, \u001b[38;5;124m\"\u001b[39m\u001b[38;5;124mmean\u001b[39m\u001b[38;5;124m\"\u001b[39m],\n\u001b[0;32m      6\u001b[0m ) \u001b[38;5;241m-\u001b[39m\u001b[38;5;241m>\u001b[39m \u001b[38;5;28mtuple\u001b[39m[np\u001b[38;5;241m.\u001b[39mndarray, np\u001b[38;5;241m.\u001b[39mndarray]:\n\u001b[0;32m      7\u001b[0m     m, n \u001b[38;5;241m=\u001b[39m matrix\u001b[38;5;241m.\u001b[39mshape\n\u001b[0;32m      8\u001b[0m     new_matrix \u001b[38;5;241m=\u001b[39m matrix\u001b[38;5;241m.\u001b[39mcopy()\n",
      "\u001b[1;31mNameError\u001b[0m: name 'np' is not defined"
     ]
    }
   ],
   "source": [
    "def init_gd(\n",
    "    matrix: np.ndarray,\n",
    "    mask: np.ndarray,\n",
    "    rank: int,\n",
    "    strategy: Literal[\"random\", \"svd\", \"mean\"],\n",
    ") -> tuple[np.ndarray, np.ndarray]:\n",
    "    m, n = matrix.shape\n",
    "    new_matrix = matrix.copy()\n",
    "\n",
    "    if strategy == \"random\":\n",
    "        return np.random.random((m, rank)), np.random.random((rank, n))\n",
    "\n",
    "    if strategy == \"mean\":\n",
    "        new_matrix = SimpleImputer(\n",
    "            strategy=strategy, missing_values=0, keep_empty_features=True\n",
    "        ).fit_transform(new_matrix)\n",
    "\n",
    "    u, s, vt = sklearn.utils.extmath.randomized_svd(\n",
    "        new_matrix, n_iter=25, n_components=rank\n",
    "    )\n",
    "    # u, s, vt = np.linalg.svd(new_matrix)\n",
    "    # u = u[:,:rank]\n",
    "    # v = vt[:,:rank]\n",
    "    v = vt\n",
    "\n",
    "    return u.astype(np.float64), v.astype(np.float64)\n",
    "\n",
    "\n",
    "def objective_gd(\n",
    "    matrix: np.ndarray,\n",
    "    mask: np.ndarray,\n",
    "    u: np.ndarray,\n",
    "    v: np.ndarray,\n",
    "    regularization: float = 0.0,\n",
    ") -> float:\n",
    "    n = np.sum(mask)\n",
    "\n",
    "    return (\n",
    "        (np.sum(mask * np.pow((matrix - (u @ v)), 2))) / n\n",
    "        # + regularization * (np.linalg.norm(u) ** 2 + np.linalg.norm(v) ** 2)\n",
    "    ).item()\n",
    "\n",
    "\n",
    "def nabla_objective_gd(\n",
    "    matrix: np.ndarray,\n",
    "    mask: np.ndarray,\n",
    "    u: np.ndarray,\n",
    "    v: np.ndarray,\n",
    "    for_v: bool = False,\n",
    "    regularization: float = 0.0,\n",
    ") -> np.ndarray:\n",
    "    n = np.sum(mask)\n",
    "    val = -2 / n * mask * (matrix - (u @ v))\n",
    "\n",
    "    if for_v:\n",
    "        return u.T @ val + 2 * regularization * v\n",
    "    return val @ v.T + 2 * regularization * u\n",
    "\n",
    "\n",
    "def tune_step(x: np.ndarray, grad_f, objective, optimizer: Optimizer, k, prev_step):\n",
    "    step = prev_step\n",
    "    e0 = objective(x)\n",
    "    new_x = optimizer.step(x, grad_f(x), step, k)\n",
    "    i = 0\n",
    "    while objective(new_x) > e0:\n",
    "        step = step / 2\n",
    "        new_x = optimizer.step(x, grad_f(x), step, k)\n",
    "        i += 1\n",
    "        if i > 10:\n",
    "            step = 1e-5\n",
    "            optimizer.step(x, grad_f(x), step, k)\n",
    "            break\n",
    "\n",
    "    step *= 8\n",
    "    return new_x, step\n",
    "\n",
    "\n",
    "def adaptive_step(\n",
    "    x: np.ndarray, grad, prev_grad, prev_x, prev_step, theta, start_step=0.0\n",
    "):\n",
    "    if prev_step is None:\n",
    "        # step = 1e-10\n",
    "        step = start_step\n",
    "        theta = np.inf\n",
    "\n",
    "        return step, theta\n",
    "    step = prev_step\n",
    "    if np.linalg.norm(prev_grad - grad) < 1e-5:\n",
    "        min_value = np.sqrt(1 + theta) * step\n",
    "    else:\n",
    "        min_value = min(\n",
    "            np.sqrt(1 + theta) * step,\n",
    "            np.linalg.norm(x - prev_x) / (2 * np.linalg.norm(prev_grad - grad)),\n",
    "        )\n",
    "\n",
    "    if min_value == np.inf:\n",
    "        # if min_value >= 1e2 or min_value == np.inf:\n",
    "        min_value = 0.001\n",
    "\n",
    "    theta = min_value / step\n",
    "    step = min_value\n",
    "    return step, theta\n",
    "\n",
    "\n",
    "def block_gd(\n",
    "    initial_matrix: np.ndarray,\n",
    "    mask: np.ndarray,\n",
    "    rank: int | float,\n",
    "    iterations: int,\n",
    "    optimizer: Callable[[], Optimizer] = GradientDescent,\n",
    "    lr: Callable[[int], float] | float = 1e-3,\n",
    "    init_strategy: Literal[\"random\", \"svd\"] = \"svd\",\n",
    "    regularization: float = 0.0,\n",
    "    verbose: bool = True,\n",
    "    seed: int = 420,\n",
    ") -> tuple[np.ndarray, dict]:\n",
    "    np.random.seed(seed)\n",
    "\n",
    "    r = int(min(initial_matrix.shape) * rank) if isinstance(rank, float) else rank\n",
    "\n",
    "    # Initializing\n",
    "    u, v = init_gd(initial_matrix, mask, r, strategy=init_strategy)\n",
    "\n",
    "    matrix = initial_matrix.copy().astype(np.float64)\n",
    "    log_dict = {\n",
    "        \"objective\": [],\n",
    "    }\n",
    "    u_optim = optimizer()\n",
    "    v_optim = optimizer()\n",
    "\n",
    "    lr_func: Callable[[int], float] = (lambda _: lr) if isinstance(lr, float) else lr  # type: ignore\n",
    "\n",
    "    stepu = lr_func(0)\n",
    "    stepv = lr_func(0)\n",
    "\n",
    "    # For adaprive\n",
    "    # stepu = None\n",
    "    # stepv = None\n",
    "\n",
    "    thetau = 0\n",
    "    thetav = 0\n",
    "\n",
    "    prev_grad_u = 0\n",
    "    prev_grad_v = 0\n",
    "\n",
    "    prev_u = u.copy()\n",
    "    prev_v = v.copy()\n",
    "\n",
    "    with tqdm.tqdm(range(iterations), disable=not verbose) as loop:\n",
    "        for k in loop:\n",
    "            alpha_u = alpha_v = lr_func(k)\n",
    "\n",
    "            # Adaptve Step\n",
    "            # grad_u = nabla_objective_gd(matrix, mask, u, v, regularization=regularization)\n",
    "            # stepu, thetau = adaptive_step(\n",
    "            #     u, grad_u, prev_grad_u, prev_u, stepu, thetau, start_step=lr_func(0)\n",
    "            # )\n",
    "            # prev_grad_u = grad_u.copy()\n",
    "\n",
    "            # prev_u = u.copy()\n",
    "            # u = u_optim.step(u, grad_u, stepu, k)\n",
    "\n",
    "            # grad_v = nabla_objective_gd(\n",
    "            #     matrix, mask, u, v, for_v=True, regularization=regularization\n",
    "            # )\n",
    "            # stepv, thetav = adaptive_step(\n",
    "            #     v, grad_v, prev_grad_v, prev_v, stepv, thetav, start_step=lr_func(0)\n",
    "            # )\n",
    "            # prev_grad_v = grad_v.copy()\n",
    "\n",
    "            # prev_v = v.copy()\n",
    "            # v = v_optim.step(v, grad_v, stepv, k)\n",
    "\n",
    "            # Simple Rule\n",
    "            u, stepu = tune_step(\n",
    "                u,\n",
    "                lambda x: nabla_objective_gd(\n",
    "                    matrix, mask, x, v, regularization=regularization\n",
    "                ),\n",
    "                lambda x: objective_gd(matrix, mask, x, v, regularization=regularization),\n",
    "                u_optim,\n",
    "                k,\n",
    "                stepu,\n",
    "            )\n",
    "            v, stepv = tune_step(\n",
    "                v,\n",
    "                lambda x: nabla_objective_gd(\n",
    "                    matrix, mask, u, x, for_v=True, regularization=regularization\n",
    "                ),\n",
    "                lambda x: objective_gd(matrix, mask, u, x, regularization=regularization),\n",
    "                v_optim,\n",
    "                k,\n",
    "                stepv,\n",
    "            )\n",
    "\n",
    "            # log\n",
    "            objective = objective_gd(matrix, mask, u, v, regularization=regularization)\n",
    "            log_dict[\"objective\"].append(objective)\n",
    "            if verbose:\n",
    "                loop.set_postfix({\"Objective\": objective})\n",
    "\n",
    "        log_dict[\"iteration\"] = list(range(len(log_dict[\"objective\"])))\n",
    "\n",
    "        pred = np.clip(u @ v, 1, 5)\n",
    "        return matrix + (~mask) * pred, log_dict"
   ]
  },
  {
   "cell_type": "code",
   "execution_count": null,
   "metadata": {},
   "outputs": [
    {
     "name": "stderr",
     "output_type": "stream",
     "text": [
      "100%|██████████| 10/10 [00:00<00:00, 551.24it/s, Objective=0.09]\n"
     ]
    },
    {
     "data": {
      "text/plain": [
       "(array([[2.        , 3.        , 2.        , 3.74287967, 2.8507186 ],\n",
       "        [1.        , 2.        , 2.28648499, 4.        , 1.00791164],\n",
       "        [3.        , 2.49777932, 3.        , 3.89498534, 4.        ],\n",
       "        [1.        , 3.        , 2.55605237, 4.        , 1.        ],\n",
       "        [2.02457018, 1.        , 1.        , 1.        , 2.        ],\n",
       "        [1.        , 2.8862948 , 3.        , 4.        , 2.23655524]]),\n",
       " 1.7520231437362284,\n",
       " {'rank': 2,\n",
       "  'iterations': 10,\n",
       "  'init_strategy': 'mean',\n",
       "  'lr': 0.01,\n",
       "  'optimizer': __main__.GradientDescent,\n",
       "  'verbose': True,\n",
       "  'regularization': 0})"
      ]
     },
     "execution_count": 73,
     "metadata": {},
     "output_type": "execute_result"
    }
   ],
   "source": [
    "gd_toy_res = choose_best(\n",
    "    toy_matrix,\n",
    "    toy_mask,\n",
    "    block_gd,\n",
    "    lambda sol: rmse_score(toy_matrix_full, sol, toy_test_mask),\n",
    "    {\n",
    "        \"rank\": 2,\n",
    "        \"iterations\": 10,\n",
    "        \"init_strategy\": \"mean\",\n",
    "        \"lr\": 1e-2,\n",
    "        \"optimizer\": GradientDescent,\n",
    "        \"verbose\": True,\n",
    "        \"regularization\": 0,\n",
    "    },\n",
    ")\n",
    "\n",
    "\n",
    "gd_toy_res[:-1]"
   ]
  },
  {
   "cell_type": "code",
   "execution_count": 74,
   "metadata": {},
   "outputs": [
    {
     "data": {
      "image/png": "[encoded data removed]",
      "text/plain": [
       "<Figure size 640x480 with 1 Axes>"
      ]
     },
     "metadata": {},
     "output_type": "display_data"
    }
   ],
   "source": [
    "plot_log_dicts(gd_toy_res[-1], \"Toy GD\")"
   ]
  },
  {
   "cell_type": "code",
   "execution_count": 113,
   "metadata": {},
   "outputs": [
    {
     "name": "stderr",
     "output_type": "stream",
     "text": [
      " 21%|██▏       | 32/150 [05:22<19:48, 10.07s/it, Objective=0.829]\n"
     ]
    },
    {
     "ename": "KeyboardInterrupt",
     "evalue": "",
     "output_type": "error",
     "traceback": [
      "\u001b[1;31m---------------------------------------------------------------------------\u001b[0m",
      "\u001b[1;31mKeyboardInterrupt\u001b[0m                         Traceback (most recent call last)",
      "Cell \u001b[1;32mIn[113], line 1\u001b[0m\n\u001b[1;32m----> 1\u001b[0m gd_res \u001b[38;5;241m=\u001b[39m \u001b[43mchoose_best\u001b[49m\u001b[43m(\u001b[49m\n\u001b[0;32m      2\u001b[0m \u001b[43m    \u001b[49m\u001b[43mreal_matrix\u001b[49m\u001b[43m,\u001b[49m\n\u001b[0;32m      3\u001b[0m \u001b[43m    \u001b[49m\u001b[43mreal_mask\u001b[49m\u001b[43m,\u001b[49m\n\u001b[0;32m      4\u001b[0m \u001b[43m    \u001b[49m\u001b[43mblock_gd\u001b[49m\u001b[43m,\u001b[49m\n\u001b[0;32m      5\u001b[0m \u001b[43m    \u001b[49m\u001b[38;5;28;43;01mlambda\u001b[39;49;00m\u001b[43m \u001b[49m\u001b[43msol\u001b[49m\u001b[43m:\u001b[49m\u001b[43m \u001b[49m\u001b[43mrmse_score\u001b[49m\u001b[43m(\u001b[49m\u001b[43mreal_matrix_full\u001b[49m\u001b[43m,\u001b[49m\u001b[43m \u001b[49m\u001b[43msol\u001b[49m\u001b[43m,\u001b[49m\u001b[43m \u001b[49m\u001b[43mreal_test_mask\u001b[49m\u001b[43m)\u001b[49m\u001b[43m,\u001b[49m\n\u001b[0;32m      6\u001b[0m \u001b[43m    \u001b[49m\u001b[43m{\u001b[49m\n\u001b[0;32m      7\u001b[0m \u001b[43m        \u001b[49m\u001b[38;5;124;43m\"\u001b[39;49m\u001b[38;5;124;43mrank\u001b[39;49m\u001b[38;5;124;43m\"\u001b[39;49m\u001b[43m:\u001b[49m\u001b[43m \u001b[49m\u001b[38;5;241;43m10\u001b[39;49m\u001b[43m,\u001b[49m\n\u001b[0;32m      8\u001b[0m \u001b[43m        \u001b[49m\u001b[38;5;124;43m\"\u001b[39;49m\u001b[38;5;124;43miterations\u001b[39;49m\u001b[38;5;124;43m\"\u001b[39;49m\u001b[43m:\u001b[49m\u001b[43m \u001b[49m\u001b[38;5;241;43m150\u001b[39;49m\u001b[43m,\u001b[49m\n\u001b[0;32m      9\u001b[0m \u001b[43m        \u001b[49m\u001b[38;5;124;43m\"\u001b[39;49m\u001b[38;5;124;43minit_strategy\u001b[39;49m\u001b[38;5;124;43m\"\u001b[39;49m\u001b[43m:\u001b[49m\u001b[43m \u001b[49m\u001b[38;5;124;43m\"\u001b[39;49m\u001b[38;5;124;43mmean\u001b[39;49m\u001b[38;5;124;43m\"\u001b[39;49m\u001b[43m,\u001b[49m\n\u001b[0;32m     10\u001b[0m \u001b[43m        \u001b[49m\u001b[38;5;124;43m\"\u001b[39;49m\u001b[38;5;124;43mverbose\u001b[39;49m\u001b[38;5;124;43m\"\u001b[39;49m\u001b[43m:\u001b[49m\u001b[43m \u001b[49m\u001b[38;5;28;43;01mTrue\u001b[39;49;00m\u001b[43m,\u001b[49m\n\u001b[0;32m     11\u001b[0m \u001b[43m        \u001b[49m\u001b[38;5;66;43;03m# \"optimizer\": lambda: Nesterov(0.9),\u001b[39;49;00m\n\u001b[0;32m     12\u001b[0m \u001b[43m        \u001b[49m\u001b[38;5;66;43;03m# \"lr\": 1e-3,\u001b[39;49;00m\n\u001b[0;32m     13\u001b[0m \u001b[43m        \u001b[49m\u001b[38;5;124;43m\"\u001b[39;49m\u001b[38;5;124;43moptimizer\u001b[39;49m\u001b[38;5;124;43m\"\u001b[39;49m\u001b[43m:\u001b[49m\u001b[43m \u001b[49m\u001b[43mGradientDescent\u001b[49m\u001b[43m,\u001b[49m\n\u001b[0;32m     14\u001b[0m \u001b[43m        \u001b[49m\u001b[38;5;124;43m\"\u001b[39;49m\u001b[38;5;124;43mlr\u001b[39;49m\u001b[38;5;124;43m\"\u001b[39;49m\u001b[43m:\u001b[49m\u001b[43m \u001b[49m\u001b[38;5;241;43m0.1\u001b[39;49m\u001b[43m,\u001b[49m\n\u001b[0;32m     15\u001b[0m \u001b[43m        \u001b[49m\u001b[38;5;124;43m\"\u001b[39;49m\u001b[38;5;124;43mregularization\u001b[39;49m\u001b[38;5;124;43m\"\u001b[39;49m\u001b[43m:\u001b[49m\u001b[43m \u001b[49m\u001b[38;5;241;43m0.0\u001b[39;49m\u001b[43m,\u001b[49m\n\u001b[0;32m     16\u001b[0m \u001b[43m    \u001b[49m\u001b[43m}\u001b[49m\u001b[43m,\u001b[49m\n\u001b[0;32m     17\u001b[0m \u001b[43m)\u001b[49m\n\u001b[0;32m     19\u001b[0m plot_log_dicts(gd_res[\u001b[38;5;241m-\u001b[39m\u001b[38;5;241m1\u001b[39m], \u001b[38;5;124m\"\u001b[39m\u001b[38;5;124mGD\u001b[39m\u001b[38;5;124m\"\u001b[39m)\n\u001b[0;32m     21\u001b[0m gd_res[:\u001b[38;5;241m-\u001b[39m\u001b[38;5;241m1\u001b[39m]\n",
      "Cell \u001b[1;32mIn[5], line 15\u001b[0m, in \u001b[0;36mchoose_best\u001b[1;34m(matrix, mask, solver, loss_fn, possible_params)\u001b[0m\n\u001b[0;32m     12\u001b[0m log_dicts \u001b[38;5;241m=\u001b[39m {}\n\u001b[0;32m     14\u001b[0m \u001b[38;5;28;01mfor\u001b[39;00m params \u001b[38;5;129;01min\u001b[39;00m get_params_combinations_dict(possible_params):\n\u001b[1;32m---> 15\u001b[0m     solution, log_dict \u001b[38;5;241m=\u001b[39m \u001b[43msolver\u001b[49m\u001b[43m(\u001b[49m\u001b[43mmatrix\u001b[49m\u001b[43m,\u001b[49m\u001b[43m \u001b[49m\u001b[43mmask\u001b[49m\u001b[43m,\u001b[49m\u001b[43m \u001b[49m\u001b[38;5;241;43m*\u001b[39;49m\u001b[38;5;241;43m*\u001b[39;49m\u001b[43mparams\u001b[49m\u001b[43m)\u001b[49m\n\u001b[0;32m     16\u001b[0m     log_dicts[\u001b[38;5;28mstr\u001b[39m(params)] \u001b[38;5;241m=\u001b[39m log_dict\n\u001b[0;32m     18\u001b[0m     loss \u001b[38;5;241m=\u001b[39m loss_fn(solution)\n",
      "Cell \u001b[1;32mIn[112], line 185\u001b[0m, in \u001b[0;36mblock_gd\u001b[1;34m(initial_matrix, mask, rank, iterations, optimizer, lr, init_strategy, regularization, verbose, seed)\u001b[0m\n\u001b[0;32m    153\u001b[0m \u001b[38;5;66;03m# Adaptve Step\u001b[39;00m\n\u001b[0;32m    154\u001b[0m \u001b[38;5;66;03m# grad_u = nabla_objective_gd(matrix, mask, u, v, regularization=regularization)\u001b[39;00m\n\u001b[0;32m    155\u001b[0m \u001b[38;5;66;03m# stepu, thetau = adaptive_step(\u001b[39;00m\n\u001b[1;32m   (...)\u001b[0m\n\u001b[0;32m    173\u001b[0m \n\u001b[0;32m    174\u001b[0m \u001b[38;5;66;03m# Simple Rule\u001b[39;00m\n\u001b[0;32m    175\u001b[0m u, stepu \u001b[38;5;241m=\u001b[39m tune_step(\n\u001b[0;32m    176\u001b[0m     u,\n\u001b[0;32m    177\u001b[0m     \u001b[38;5;28;01mlambda\u001b[39;00m x: nabla_objective_gd(\n\u001b[1;32m   (...)\u001b[0m\n\u001b[0;32m    183\u001b[0m     stepu,\n\u001b[0;32m    184\u001b[0m )\n\u001b[1;32m--> 185\u001b[0m v, stepv \u001b[38;5;241m=\u001b[39m \u001b[43mtune_step\u001b[49m\u001b[43m(\u001b[49m\n\u001b[0;32m    186\u001b[0m \u001b[43m    \u001b[49m\u001b[43mv\u001b[49m\u001b[43m,\u001b[49m\n\u001b[0;32m    187\u001b[0m \u001b[43m    \u001b[49m\u001b[38;5;28;43;01mlambda\u001b[39;49;00m\u001b[43m \u001b[49m\u001b[43mx\u001b[49m\u001b[43m:\u001b[49m\u001b[43m \u001b[49m\u001b[43mnabla_objective_gd\u001b[49m\u001b[43m(\u001b[49m\n\u001b[0;32m    188\u001b[0m \u001b[43m        \u001b[49m\u001b[43mmatrix\u001b[49m\u001b[43m,\u001b[49m\u001b[43m \u001b[49m\u001b[43mmask\u001b[49m\u001b[43m,\u001b[49m\u001b[43m \u001b[49m\u001b[43mu\u001b[49m\u001b[43m,\u001b[49m\u001b[43m \u001b[49m\u001b[43mx\u001b[49m\u001b[43m,\u001b[49m\u001b[43m \u001b[49m\u001b[43mfor_v\u001b[49m\u001b[38;5;241;43m=\u001b[39;49m\u001b[38;5;28;43;01mTrue\u001b[39;49;00m\u001b[43m,\u001b[49m\u001b[43m \u001b[49m\u001b[43mregularization\u001b[49m\u001b[38;5;241;43m=\u001b[39;49m\u001b[43mregularization\u001b[49m\n\u001b[0;32m    189\u001b[0m \u001b[43m    \u001b[49m\u001b[43m)\u001b[49m\u001b[43m,\u001b[49m\n\u001b[0;32m    190\u001b[0m \u001b[43m    \u001b[49m\u001b[38;5;28;43;01mlambda\u001b[39;49;00m\u001b[43m \u001b[49m\u001b[43mx\u001b[49m\u001b[43m:\u001b[49m\u001b[43m \u001b[49m\u001b[43mobjective_gd\u001b[49m\u001b[43m(\u001b[49m\u001b[43mmatrix\u001b[49m\u001b[43m,\u001b[49m\u001b[43m \u001b[49m\u001b[43mmask\u001b[49m\u001b[43m,\u001b[49m\u001b[43m \u001b[49m\u001b[43mu\u001b[49m\u001b[43m,\u001b[49m\u001b[43m \u001b[49m\u001b[43mx\u001b[49m\u001b[43m,\u001b[49m\u001b[43m \u001b[49m\u001b[43mregularization\u001b[49m\u001b[38;5;241;43m=\u001b[39;49m\u001b[43mregularization\u001b[49m\u001b[43m)\u001b[49m\u001b[43m,\u001b[49m\n\u001b[0;32m    191\u001b[0m \u001b[43m    \u001b[49m\u001b[43mv_optim\u001b[49m\u001b[43m,\u001b[49m\n\u001b[0;32m    192\u001b[0m \u001b[43m    \u001b[49m\u001b[43mk\u001b[49m\u001b[43m,\u001b[49m\n\u001b[0;32m    193\u001b[0m \u001b[43m    \u001b[49m\u001b[43mstepv\u001b[49m\u001b[43m,\u001b[49m\n\u001b[0;32m    194\u001b[0m \u001b[43m\u001b[49m\u001b[43m)\u001b[49m\n\u001b[0;32m    196\u001b[0m \u001b[38;5;66;03m# log\u001b[39;00m\n\u001b[0;32m    197\u001b[0m objective \u001b[38;5;241m=\u001b[39m objective_gd(matrix, mask, u, v, regularization\u001b[38;5;241m=\u001b[39mregularization)\n",
      "Cell \u001b[1;32mIn[112], line 62\u001b[0m, in \u001b[0;36mtune_step\u001b[1;34m(x, grad_f, objective, optimizer, k, prev_step)\u001b[0m\n\u001b[0;32m     60\u001b[0m \u001b[38;5;28;01mdef\u001b[39;00m \u001b[38;5;21mtune_step\u001b[39m(x: np\u001b[38;5;241m.\u001b[39mndarray, grad_f, objective, optimizer: Optimizer, k, prev_step):\n\u001b[0;32m     61\u001b[0m     step \u001b[38;5;241m=\u001b[39m prev_step\n\u001b[1;32m---> 62\u001b[0m     e0 \u001b[38;5;241m=\u001b[39m \u001b[43mobjective\u001b[49m\u001b[43m(\u001b[49m\u001b[43mx\u001b[49m\u001b[43m)\u001b[49m\n\u001b[0;32m     63\u001b[0m     new_x \u001b[38;5;241m=\u001b[39m optimizer\u001b[38;5;241m.\u001b[39mstep(x, grad_f(x), step, k)\n\u001b[0;32m     64\u001b[0m     i \u001b[38;5;241m=\u001b[39m \u001b[38;5;241m0\u001b[39m\n",
      "Cell \u001b[1;32mIn[112], line 190\u001b[0m, in \u001b[0;36mblock_gd.<locals>.<lambda>\u001b[1;34m(x)\u001b[0m\n\u001b[0;32m    153\u001b[0m \u001b[38;5;66;03m# Adaptve Step\u001b[39;00m\n\u001b[0;32m    154\u001b[0m \u001b[38;5;66;03m# grad_u = nabla_objective_gd(matrix, mask, u, v, regularization=regularization)\u001b[39;00m\n\u001b[0;32m    155\u001b[0m \u001b[38;5;66;03m# stepu, thetau = adaptive_step(\u001b[39;00m\n\u001b[1;32m   (...)\u001b[0m\n\u001b[0;32m    173\u001b[0m \n\u001b[0;32m    174\u001b[0m \u001b[38;5;66;03m# Simple Rule\u001b[39;00m\n\u001b[0;32m    175\u001b[0m u, stepu \u001b[38;5;241m=\u001b[39m tune_step(\n\u001b[0;32m    176\u001b[0m     u,\n\u001b[0;32m    177\u001b[0m     \u001b[38;5;28;01mlambda\u001b[39;00m x: nabla_objective_gd(\n\u001b[1;32m   (...)\u001b[0m\n\u001b[0;32m    183\u001b[0m     stepu,\n\u001b[0;32m    184\u001b[0m )\n\u001b[0;32m    185\u001b[0m v, stepv \u001b[38;5;241m=\u001b[39m tune_step(\n\u001b[0;32m    186\u001b[0m     v,\n\u001b[0;32m    187\u001b[0m     \u001b[38;5;28;01mlambda\u001b[39;00m x: nabla_objective_gd(\n\u001b[0;32m    188\u001b[0m         matrix, mask, u, x, for_v\u001b[38;5;241m=\u001b[39m\u001b[38;5;28;01mTrue\u001b[39;00m, regularization\u001b[38;5;241m=\u001b[39mregularization\n\u001b[0;32m    189\u001b[0m     ),\n\u001b[1;32m--> 190\u001b[0m     \u001b[38;5;28;01mlambda\u001b[39;00m x: \u001b[43mobjective_gd\u001b[49m\u001b[43m(\u001b[49m\u001b[43mmatrix\u001b[49m\u001b[43m,\u001b[49m\u001b[43m \u001b[49m\u001b[43mmask\u001b[49m\u001b[43m,\u001b[49m\u001b[43m \u001b[49m\u001b[43mu\u001b[49m\u001b[43m,\u001b[49m\u001b[43m \u001b[49m\u001b[43mx\u001b[49m\u001b[43m,\u001b[49m\u001b[43m \u001b[49m\u001b[43mregularization\u001b[49m\u001b[38;5;241;43m=\u001b[39;49m\u001b[43mregularization\u001b[49m\u001b[43m)\u001b[49m,\n\u001b[0;32m    191\u001b[0m     v_optim,\n\u001b[0;32m    192\u001b[0m     k,\n\u001b[0;32m    193\u001b[0m     stepv,\n\u001b[0;32m    194\u001b[0m )\n\u001b[0;32m    196\u001b[0m \u001b[38;5;66;03m# log\u001b[39;00m\n\u001b[0;32m    197\u001b[0m objective \u001b[38;5;241m=\u001b[39m objective_gd(matrix, mask, u, v, regularization\u001b[38;5;241m=\u001b[39mregularization)\n",
      "Cell \u001b[1;32mIn[112], line 39\u001b[0m, in \u001b[0;36mobjective_gd\u001b[1;34m(matrix, mask, u, v, regularization)\u001b[0m\n\u001b[0;32m     29\u001b[0m \u001b[38;5;28;01mdef\u001b[39;00m \u001b[38;5;21mobjective_gd\u001b[39m(\n\u001b[0;32m     30\u001b[0m     matrix: np\u001b[38;5;241m.\u001b[39mndarray,\n\u001b[0;32m     31\u001b[0m     mask: np\u001b[38;5;241m.\u001b[39mndarray,\n\u001b[1;32m   (...)\u001b[0m\n\u001b[0;32m     34\u001b[0m     regularization: \u001b[38;5;28mfloat\u001b[39m \u001b[38;5;241m=\u001b[39m \u001b[38;5;241m0.0\u001b[39m,\n\u001b[0;32m     35\u001b[0m ) \u001b[38;5;241m-\u001b[39m\u001b[38;5;241m>\u001b[39m \u001b[38;5;28mfloat\u001b[39m:\n\u001b[0;32m     36\u001b[0m     n \u001b[38;5;241m=\u001b[39m np\u001b[38;5;241m.\u001b[39msum(mask)\n\u001b[0;32m     38\u001b[0m     \u001b[38;5;28;01mreturn\u001b[39;00m (\n\u001b[1;32m---> 39\u001b[0m         (np\u001b[38;5;241m.\u001b[39msum(mask \u001b[38;5;241m*\u001b[39m \u001b[43mnp\u001b[49m\u001b[38;5;241;43m.\u001b[39;49m\u001b[43mpow\u001b[49m\u001b[43m(\u001b[49m\u001b[43m(\u001b[49m\u001b[43mmatrix\u001b[49m\u001b[43m \u001b[49m\u001b[38;5;241;43m-\u001b[39;49m\u001b[43m \u001b[49m\u001b[43m(\u001b[49m\u001b[43mu\u001b[49m\u001b[43m \u001b[49m\u001b[38;5;241;43m@\u001b[39;49m\u001b[43m \u001b[49m\u001b[43mv\u001b[49m\u001b[43m)\u001b[49m\u001b[43m)\u001b[49m\u001b[43m,\u001b[49m\u001b[43m \u001b[49m\u001b[38;5;241;43m2\u001b[39;49m\u001b[43m)\u001b[49m)) \u001b[38;5;241m/\u001b[39m n\n\u001b[0;32m     40\u001b[0m         \u001b[38;5;66;03m# + regularization * (np.linalg.norm(u) ** 2 + np.linalg.norm(v) ** 2)\u001b[39;00m\n\u001b[0;32m     41\u001b[0m     )\u001b[38;5;241m.\u001b[39mitem()\n",
      "\u001b[1;31mKeyboardInterrupt\u001b[0m: "
     ]
    }
   ],
   "source": [
    "gd_res = choose_best(\n",
    "    real_matrix,\n",
    "    real_mask,\n",
    "    block_gd,\n",
    "    lambda sol: rmse_score(real_matrix_full, sol, real_test_mask),\n",
    "    {\n",
    "        \"rank\": 10,\n",
    "        \"iterations\": 150,\n",
    "        \"init_strategy\": \"mean\",\n",
    "        \"verbose\": True,\n",
    "        # \"optimizer\": lambda: Nesterov(0.9),\n",
    "        # \"lr\": 1e-3,\n",
    "        \"optimizer\": GradientDescent,\n",
    "        \"lr\": 0.1,\n",
    "        \"regularization\": 0.0,\n",
    "    },\n",
    ")\n",
    "\n",
    "plot_log_dicts(gd_res[-1], \"GD\")\n",
    "\n",
    "gd_res[:-1]"
   ]
  },
  {
   "cell_type": "code",
   "execution_count": null,
   "metadata": {},
   "outputs": [],
   "source": [
    "def fancy_block_gd(\n",
    "    initial_matrix: np.ndarray,\n",
    "    mask: np.ndarray,\n",
    "    rank: int | float,\n",
    "    iterations: int,\n",
    "    optimizer: Callable[[], Optimizer] = GradientDescent,\n",
    "    lr: Callable[[int], float] | float = 1e-3,\n",
    "    init_strategy: Literal[\"random\", \"svd\"] = \"svd\",\n",
    "    regularization: float = 0.0,\n",
    "    verbose: bool = True,\n",
    "    seed: int = 420,\n",
    ") -> tuple[np.ndarray, dict]:\n",
    "    np.random.seed(seed)\n",
    "\n",
    "    r = int(min(initial_matrix.shape) * rank) if isinstance(rank, float) else rank\n",
    "\n",
    "    # Initializing\n",
    "    u, v = init_gd(initial_matrix, mask, r, strategy=init_strategy)\n",
    "\n",
    "    matrix = initial_matrix.copy().astype(np.float64)\n",
    "    log_dict = {\n",
    "        \"objective\": [],\n",
    "    }\n",
    "    u_optim = optimizer()\n",
    "    v_optim = optimizer()\n",
    "\n",
    "    lr_func: Callable[[int], float] = (lambda _: lr) if isinstance(lr, float) else lr  # type: ignore\n",
    "\n",
    "    indices = [\n",
    "        (i, j.item()) for i in range(mask.shape[0]) for j in np.where(mask[i, :])[0]\n",
    "    ]\n",
    "    with tqdm.tqdm(range(iterations), disable=not verbose) as loop:\n",
    "        for k in loop:\n",
    "            alpha_u = alpha_v = lr_func(k)\n",
    "\n",
    "            # for i in range(matrix.shape[0]):\n",
    "            #     indices = np.where(mask[i,:])[0]\n",
    "            #     for j in indices:\n",
    "            #         error_ij = matrix[i, j] - np.dot(u[i, :], v[:, j])\n",
    "            #         grad_u = -2 * error_ij * v[:, j] + 2 * regularization * u[i, :]\n",
    "            #         u[i, :] = u_optim.step(u[i, :], grad_u, alpha_u, k)\n",
    "\n",
    "            # for j in range(matrix.shape[1]):\n",
    "            #     indices = np.where(mask[:,j])[0]\n",
    "            #     for i in indices:\n",
    "            #         error_ij = matrix[i, j] - np.dot(u[i, :], v[:, j].T)\n",
    "            #         grad_v = -2 * error_ij * u[i, :] + 2 * regularization * v[:, j]\n",
    "            #         v[:, j] = v_optim.step(v[:, j], grad_v, alpha_v, k)\n",
    "\n",
    "            np.random.shuffle(indices)\n",
    "            for i, j in indices:\n",
    "                error_ij = matrix[i, j] - np.dot(u[i, :], v[:, j].T)\n",
    "                grad_v = -2 * error_ij * u[i, :] + 2 * regularization * v[:, j]\n",
    "                v[:, j] = v_optim.step(v[:, j], grad_v, alpha_v, k)\n",
    "\n",
    "                error_ij = matrix[i, j] - np.dot(u[i, :], v[:, j].T)\n",
    "                grad_u = -2 * error_ij * v[:, j] + 2 * regularization * u[i, :]\n",
    "                u[i, :] = u_optim.step(u[i, :], grad_u, alpha_u, k)\n",
    "\n",
    "            # log\n",
    "            objective = objective_gd(matrix, mask, u, v, regularization=regularization)\n",
    "            log_dict[\"objective\"].append(objective)\n",
    "            if verbose:\n",
    "                loop.set_postfix({\"Objective\": objective})\n",
    "\n",
    "        log_dict[\"iteration\"] = list(range(len(log_dict[\"objective\"])))\n",
    "\n",
    "        pred = np.clip(u @ v, 1, 5)\n",
    "        return matrix + (~mask) * pred, log_dict"
   ]
  },
  {
   "cell_type": "code",
   "execution_count": null,
   "metadata": {},
   "outputs": [
    {
     "name": "stderr",
     "output_type": "stream",
     "text": [
      "100%|██████████| 10/10 [02:15<00:00, 13.51s/it, Objective=0.767]\n"
     ]
    },
    {
     "data": {
      "image/png": "[encoded data removed]",
      "text/plain": [
       "<Figure size 640x480 with 1 Axes>"
      ]
     },
     "metadata": {},
     "output_type": "display_data"
    },
    {
     "data": {
      "text/plain": [
       "(array([[5.        , 3.14409792, 3.43205105, ..., 3.78672249, 4.14225647,\n",
       "         4.1520849 ],\n",
       "        [4.38865728, 3.05479252, 3.35130773, ..., 3.62204334, 3.91071015,\n",
       "         3.96941726],\n",
       "        [4.16868336, 2.99844357, 3.30752904, ..., 3.47477311, 3.75342643,\n",
       "         3.82620595],\n",
       "        ...,\n",
       "        [4.16551443, 2.88184835, 3.12920319, ..., 3.49131421, 3.88269955,\n",
       "         3.84642392],\n",
       "        [3.90402786, 2.60922715, 2.83213318, ..., 3.26968541, 3.60685825,\n",
       "         3.56609289],\n",
       "        [3.        , 2.06624309, 2.12856458, ..., 3.23886578, 3.74176037,\n",
       "         3.44440248]]),\n",
       " 0.888247202457462,\n",
       " {'rank': 5,\n",
       "  'iterations': 10,\n",
       "  'init_strategy': 'mean',\n",
       "  'verbose': True,\n",
       "  'optimizer': __main__.GradientDescent,\n",
       "  'lr': 0.01,\n",
       "  'regularization': 0.1})"
      ]
     },
     "execution_count": 138,
     "metadata": {},
     "output_type": "execute_result"
    }
   ],
   "source": [
    "gd_res = choose_best(\n",
    "    real_matrix,\n",
    "    real_mask,\n",
    "    fancy_block_gd,\n",
    "    lambda sol: rmse_score(real_matrix_full, sol, real_test_mask),\n",
    "    {\n",
    "        \"rank\": 5,\n",
    "        \"iterations\": 10,\n",
    "        \"init_strategy\": \"mean\",\n",
    "        \"verbose\": True,\n",
    "        \"optimizer\": GradientDescent,\n",
    "        \"lr\": lambda k: 0.01 / np.sqrt(k + 1),\n",
    "        # \"lr\": 0.01,\n",
    "        # \"lr\": 0.01,\n",
    "        \"regularization\": 0.1,\n",
    "    },\n",
    ")\n",
    "\n",
    "plot_log_dicts(gd_res[-1], \"GD\")\n",
    "\n",
    "gd_res[:-1]"
   ]
  },
  {
   "cell_type": "code",
   "execution_count": 140,
   "metadata": {},
   "outputs": [],
   "source": [
    "save_solution(gd_res[0], decimals=5, prefix=\"gd\")"
   ]
  },
  {
   "cell_type": "markdown",
   "metadata": {},
   "source": [
    "## A1. SVD\n"
   ]
  },
  {
   "cell_type": "code",
   "execution_count": null,
   "metadata": {},
   "outputs": [],
   "source": [
    "def impute(\n",
    "    matrix: np.ndarray,\n",
    "    mask: np.ndarray,\n",
    "    strategy: Literal[\"mean\", \"most_frequent\", \"median\", \"random\"],\n",
    ") -> np.ndarray:\n",
    "    if strategy in [\"mean\", \"most_frequent\", \"median\"]:\n",
    "        return SimpleImputer(\n",
    "            strategy=strategy, missing_values=0, keep_empty_features=True\n",
    "        ).fit_transform(matrix)\n",
    "\n",
    "    new_matrix = matrix.copy()\n",
    "    new_matrix[~mask] = np.random.uniform(low=1, high=5, size=np.sum(~mask))\n",
    "    return new_matrix\n",
    "\n",
    "\n",
    "def svd_based(\n",
    "    initial_matrix: np.ndarray,\n",
    "    mask: np.ndarray,\n",
    "    rank: int | float,\n",
    "    iterations: int,\n",
    "    imputing_strategy: Literal[\"mean\", \"most_frequent\", \"median\", \"random\"] = \"mean\",\n",
    "    randomized_svd: bool = False,\n",
    "    verbose: bool = True,\n",
    "    diff_norm_stopping_criterion: Optional[float] = None,\n",
    "    seed: int = 420,\n",
    ") -> tuple[np.ndarray, dict]:\n",
    "    np.random.seed(seed)\n",
    "\n",
    "    # Initial imputing\n",
    "    matrix = impute(initial_matrix, mask, strategy=imputing_strategy)\n",
    "\n",
    "    r = rank\n",
    "    if isinstance(rank, float):\n",
    "        r = int(min(matrix.shape) * rank)\n",
    "\n",
    "    log_dict = {\n",
    "        \"objective\": [],\n",
    "    }\n",
    "\n",
    "    with tqdm.tqdm(range(iterations), disable=not verbose) as loop:\n",
    "        for _ in loop:\n",
    "            old_matrix = matrix[~mask].copy()\n",
    "\n",
    "            if randomized_svd:\n",
    "                u, s, vt = sklearn.utils.extmath.randomized_svd(\n",
    "                    matrix, n_components=r, random_state=seed\n",
    "                )\n",
    "                s = np.diag(s)\n",
    "\n",
    "            else:\n",
    "                u, s, vt = np.linalg.svd(matrix, full_matrices=False)\n",
    "                s = np.diag(s[:r])\n",
    "                u = u[:, :r]\n",
    "                vt = vt[:r, :]\n",
    "\n",
    "            matrix = u @ s @ vt\n",
    "\n",
    "            # Keep known values\n",
    "            matrix[mask] = initial_matrix[mask]\n",
    "\n",
    "            # log\n",
    "            diff_norm = np.linalg.norm(matrix[~mask] - old_matrix)\n",
    "            log_dict[\"objective\"].append(diff_norm)\n",
    "            if verbose:\n",
    "                loop.set_postfix({\"Difference norm\": diff_norm})\n",
    "\n",
    "            if (\n",
    "                diff_norm_stopping_criterion is not None\n",
    "                and diff_norm <= diff_norm_stopping_criterion\n",
    "            ):\n",
    "                break\n",
    "\n",
    "        log_dict[\"iteration\"] = list(range(len(log_dict[\"objective\"])))\n",
    "\n",
    "        return matrix, log_dict"
   ]
  },
  {
   "cell_type": "code",
   "execution_count": null,
   "metadata": {},
   "outputs": [
    {
     "data": {
      "text/plain": [
       "(array([[2.        , 3.        , 2.        , 2.92431594, 2.68232072],\n",
       "        [0.45829577, 2.        , 3.07384344, 4.        , 1.34197273],\n",
       "        [3.        , 4.46710247, 3.        , 4.37030923, 4.        ],\n",
       "        [1.55571574, 3.        , 2.91388923, 4.        , 2.45737367],\n",
       "        [1.07604102, 2.61790234, 3.09133014, 4.13588594, 2.        ],\n",
       "        [1.        , 2.49527507, 3.        , 4.        , 1.89301043]]),\n",
       " 1.22157424565747,\n",
       " {'rank': 0.5,\n",
       "  'iterations': 25,\n",
       "  'imputing_strategy': 'most_frequent',\n",
       "  'randomized_svd': False,\n",
       "  'verbose': False})"
      ]
     },
     "execution_count": 108,
     "metadata": {},
     "output_type": "execute_result"
    }
   ],
   "source": [
    "svd_toy_res = choose_best(\n",
    "    toy_matrix,\n",
    "    toy_mask,\n",
    "    svd_based,\n",
    "    lambda sol: rmse_score(toy_matrix_full, sol, toy_test_mask),\n",
    "    {\n",
    "        \"rank\": [0.2, 0.3, 0.5],\n",
    "        \"iterations\": 25,\n",
    "        \"imputing_strategy\": [\"mean\", \"most_frequent\", \"median\", \"random\"],\n",
    "        \"randomized_svd\": [True, False],\n",
    "        \"verbose\": False,\n",
    "    },\n",
    ")\n",
    "\n",
    "svd_toy_res[:-1]"
   ]
  },
  {
   "cell_type": "code",
   "execution_count": null,
   "metadata": {},
   "outputs": [],
   "source": [
    "plot_log_dicts(svd_toy_res[-1], \"Toy SVD\")"
   ]
  },
  {
   "cell_type": "code",
   "execution_count": null,
   "metadata": {},
   "outputs": [
    {
     "name": "stderr",
     "output_type": "stream",
     "text": [
      "100%|██████████| 200/200 [03:45<00:00,  1.13s/it, Difference norm=3.65] \n"
     ]
    },
    {
     "data": {
      "text/plain": [
       "(array([[5.        , 3.38652131, 3.24441599, ..., 3.69182739, 3.84242649,\n",
       "         4.04154983],\n",
       "        [4.03643502, 3.1162232 , 2.98546013, ..., 3.39716101, 3.53573991,\n",
       "         3.71897005],\n",
       "        [4.15777447, 3.20990011, 3.07520617, ..., 3.49928321, 3.64202794,\n",
       "         3.83076616],\n",
       "        ...,\n",
       "        [3.86696185, 2.98538591, 2.86011304, ..., 3.2545283 , 3.38728886,\n",
       "         3.56282592],\n",
       "        [4.00175327, 3.08944806, 2.95980853, ..., 3.36797201, 3.50536022,\n",
       "         3.68701601],\n",
       "        [3.        , 2.9757912 , 2.85092094, ..., 3.2440686 , 3.37640248,\n",
       "         3.55137538]]),\n",
       " 2.646701411137743,\n",
       " {'rank': 1,\n",
       "  'iterations': 200,\n",
       "  'imputing_strategy': 'random',\n",
       "  'randomized_svd': True,\n",
       "  'verbose': True})"
      ]
     },
     "execution_count": 113,
     "metadata": {},
     "output_type": "execute_result"
    }
   ],
   "source": [
    "svd_res = choose_best(\n",
    "    real_matrix,\n",
    "    real_mask,\n",
    "    svd_based,\n",
    "    lambda sol: rmse_score(real_matrix_full, sol, real_test_mask),\n",
    "    {\n",
    "        \"rank\": 10,\n",
    "        \"iterations\": 200,\n",
    "        \"imputing_strategy\": \"mean\",\n",
    "        \"randomized_svd\": True,\n",
    "        \"verbose\": True,\n",
    "    },\n",
    ")\n",
    "\n",
    "svd_res[:-1]"
   ]
  },
  {
   "cell_type": "code",
   "execution_count": null,
   "metadata": {},
   "outputs": [],
   "source": [
    "plot_log_dicts(svd_res[-1], \"SVD\")"
   ]
  },
  {
   "cell_type": "code",
   "execution_count": null,
   "metadata": {},
   "outputs": [],
   "source": [
    "save_solution(svd_res[0], decimals=5)"
   ]
  }
 ],
 "metadata": {
  "kernelspec": {
   "display_name": ".venv",
   "language": "python",
   "name": "python3"
  },
  "language_info": {
   "codemirror_mode": {
    "name": "ipython",
    "version": 3
   },
   "file_extension": ".py",
   "mimetype": "text/x-python",
   "name": "python",
   "nbconvert_exporter": "python",
   "pygments_lexer": "ipython3",
   "version": "3.12.2"
  }
 },
 "nbformat": 4,
 "nbformat_minor": 2
}
