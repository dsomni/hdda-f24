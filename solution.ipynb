{
 "cells": [
  {
   "cell_type": "markdown",
   "metadata": {},
   "source": [
    "# HDDA F24 Recommendation systems via approximate matrix factorization\n",
    "\n",
    "by Dmitry Beresnev (<d.beresnev@innopolis.university>)\n",
    "and Vsevolod Klyushev (<v.klyushev@innopolis.university>)\n",
    "\n",
    "Group ID = 1\n"
   ]
  },
  {
   "cell_type": "code",
   "execution_count": 96,
   "metadata": {},
   "outputs": [],
   "source": [
    "from typing import Callable, Literal, Optional\n",
    "\n",
    "import numpy as np\n",
    "import pandas as pd\n",
    "import scipy\n",
    "import sklearn\n",
    "import tqdm\n",
    "from scipy.sparse import csr_matrix\n",
    "from sklearn.impute import SimpleImputer"
   ]
  },
  {
   "cell_type": "markdown",
   "metadata": {},
   "source": [
    "## Utilities"
   ]
  },
  {
   "cell_type": "code",
   "execution_count": 97,
   "metadata": {},
   "outputs": [],
   "source": [
    "def get_params_combinations(params: list[list]):\n",
    "    if len(params) == 0:\n",
    "        return [[]]\n",
    "    return [(x, *k) for k in get_params_combinations(params[1:]) for x in params[0]]\n",
    "\n",
    "\n",
    "def get_params_combinations_dict(possible_params_dict: dict[str, list]):\n",
    "    if len(possible_params_dict) == 0:\n",
    "        return [{}]\n",
    "    dict_items = list(possible_params_dict.items())\n",
    "\n",
    "    first_item = dict_items[0]\n",
    "\n",
    "    if not isinstance(first_item[1], list):\n",
    "        return [\n",
    "            {first_item[0]: first_item[1], **k}\n",
    "            for k in get_params_combinations_dict(dict(dict_items[1:]))\n",
    "        ]\n",
    "\n",
    "    return [\n",
    "        {first_item[0]: x, **k}\n",
    "        for k in get_params_combinations_dict(dict(dict_items[1:]))\n",
    "        for x in first_item[1]\n",
    "    ]"
   ]
  },
  {
   "cell_type": "code",
   "execution_count": 98,
   "metadata": {},
   "outputs": [],
   "source": [
    "def rmse_score(\n",
    "    initial_matrix: np.ndarray, predicted_matrix: np.ndarray, test_mask: np.ndarray\n",
    ") -> float:\n",
    "    differences = (initial_matrix[test_mask] - predicted_matrix[test_mask]) ** 2\n",
    "    return float(np.sqrt(differences.mean()))"
   ]
  },
  {
   "cell_type": "code",
   "execution_count": 99,
   "metadata": {},
   "outputs": [],
   "source": [
    "def choose_best(\n",
    "    matrix: np.ndarray,\n",
    "    mask: np.ndarray,\n",
    "    solver: Callable,\n",
    "    loss_fn: Callable[[np.ndarray], float],\n",
    "    possible_params: dict,\n",
    ") -> tuple[np.ndarray, float, dict]:\n",
    "    best_loss = 1e3\n",
    "    best_solution = np.zeros(1)\n",
    "    best_params = {}\n",
    "\n",
    "    for params in get_params_combinations_dict(possible_params):\n",
    "        solution = solver(matrix, mask, **params)\n",
    "\n",
    "        loss = loss_fn(solution)\n",
    "\n",
    "        if loss < best_loss:\n",
    "            best_loss = loss\n",
    "            best_solution = solution.copy()\n",
    "            best_params = params.copy()\n",
    "\n",
    "    return best_solution, best_loss, best_params"
   ]
  },
  {
   "cell_type": "code",
   "execution_count": 100,
   "metadata": {},
   "outputs": [],
   "source": [
    "def train_test_split_matrix(\n",
    "    matrix: np.ndarray, mask: np.ndarray, test_percent: float, seed=420\n",
    ") -> tuple[np.ndarray, np.ndarray, np.ndarray]:\n",
    "    np.random.seed(seed)\n",
    "\n",
    "    train_matrix = matrix.copy().flatten()\n",
    "    train_mask = mask.copy().flatten()\n",
    "    test_mask = np.zeros(mask.shape).astype(bool).flatten()\n",
    "\n",
    "    existing_indices = np.argsort(~train_mask)[: np.sum(train_mask)]\n",
    "    test_indices = np.random.choice(\n",
    "        existing_indices, int(existing_indices.shape[0] * test_percent), replace=False\n",
    "    )\n",
    "\n",
    "    train_matrix[test_indices] = 0.0\n",
    "    train_mask[test_indices] = False\n",
    "    test_mask[test_indices] = True\n",
    "\n",
    "    matrix_shape = matrix.shape\n",
    "\n",
    "    return train_matrix.reshape(matrix_shape), train_mask.reshape(\n",
    "        matrix_shape\n",
    "    ), test_mask.reshape(matrix_shape)"
   ]
  },
  {
   "cell_type": "markdown",
   "metadata": {},
   "source": [
    "## Data loading"
   ]
  },
  {
   "cell_type": "markdown",
   "metadata": {},
   "source": [
    "### Toy data"
   ]
  },
  {
   "cell_type": "code",
   "execution_count": 101,
   "metadata": {},
   "outputs": [],
   "source": [
    "toy_matrix_full = np.array(\n",
    "    [\n",
    "        [2, 3, 2, 0, 0],\n",
    "        [0, 2, 0, 4, 3],\n",
    "        [3, 0, 3, 0, 4],\n",
    "        [0, 3, 0, 4, 3],\n",
    "        [0, 0, 0, 0, 2],\n",
    "        [1, 4, 3, 4, 0],\n",
    "    ]\n",
    ")  # 0  for unknown\n",
    "\n",
    "toy_mask_full = toy_matrix_full != 0"
   ]
  },
  {
   "cell_type": "code",
   "execution_count": 102,
   "metadata": {},
   "outputs": [],
   "source": [
    "toy_matrix, toy_mask, toy_test_mask = train_test_split_matrix(\n",
    "    toy_matrix_full, toy_mask_full, test_percent=0.2\n",
    ")"
   ]
  },
  {
   "cell_type": "markdown",
   "metadata": {},
   "source": [
    "### Real data"
   ]
  },
  {
   "cell_type": "code",
   "execution_count": 103,
   "metadata": {},
   "outputs": [],
   "source": [
    "def load_real_data() -> tuple[np.ndarray, np.ndarray]:\n",
    "    data = scipy.io.loadmat(\"./data/Data/matlab/inputX.mat\")\n",
    "    x = csr_matrix(data[\"X\"]).toarray()\n",
    "    mask = x != 0\n",
    "    return x, mask\n",
    "\n",
    "\n",
    "real_matrix_full, real_mask_full = load_real_data()"
   ]
  },
  {
   "cell_type": "code",
   "execution_count": 104,
   "metadata": {},
   "outputs": [
    {
     "name": "stdout",
     "output_type": "stream",
     "text": [
      "Test size: 8001\n"
     ]
    }
   ],
   "source": [
    "real_matrix, real_mask, real_test_mask = train_test_split_matrix(\n",
    "    real_matrix_full, real_mask_full, test_percent=0.01\n",
    ")\n",
    "\n",
    "print(f\"Test size: {int(real_test_mask.sum())}\")"
   ]
  },
  {
   "cell_type": "markdown",
   "metadata": {},
   "source": [
    "## Test real data"
   ]
  },
  {
   "cell_type": "code",
   "execution_count": 105,
   "metadata": {},
   "outputs": [
    {
     "data": {
      "text/plain": [
       "array([  593,  3104,  1544, ..., 40305, 39553, 39565], dtype=uint16)"
      ]
     },
     "execution_count": 105,
     "metadata": {},
     "output_type": "execute_result"
    }
   ],
   "source": [
    "def load_real_test_flatten_indices(real_matrix_shape: tuple) -> np.ndarray:\n",
    "    data = scipy.io.loadmat(\"./data/Data/matlab/inputEval.mat\")\n",
    "    x = data[\"Eval\"]\n",
    "    rows_indices = x[:, 0] - 1\n",
    "    columns_indices = x[:, 1] - 1\n",
    "    return rows_indices * real_matrix_shape[0] + columns_indices\n",
    "\n",
    "\n",
    "real_test_flatten_indices = load_real_test_flatten_indices(real_matrix.shape)\n",
    "real_test_flatten_indices"
   ]
  },
  {
   "cell_type": "code",
   "execution_count": 106,
   "metadata": {},
   "outputs": [],
   "source": [
    "def save_solution(\n",
    "    matrix: np.ndarray,\n",
    "    test_flatten_indices: np.ndarray = real_test_flatten_indices,\n",
    "    prefix: str = \"\",\n",
    "    decimals: int = 4,\n",
    "):\n",
    "    predictions = np.round(matrix.flatten()[test_flatten_indices], decimals=decimals)\n",
    "    results = pd.DataFrame(\n",
    "        predictions, columns=[\"Rating\"], index=np.arange(1, predictions.shape[0] + 1)\n",
    "    )\n",
    "    results.to_csv(f\"./solutions/{prefix}submission.csv\", index_label=\"ID\")"
   ]
  },
  {
   "cell_type": "markdown",
   "metadata": {},
   "source": [
    "## A1. SVD"
   ]
  },
  {
   "cell_type": "code",
   "execution_count": 107,
   "metadata": {},
   "outputs": [],
   "source": [
    "def impute(\n",
    "    matrix: np.ndarray,\n",
    "    mask: np.ndarray,\n",
    "    strategy: Literal[\"mean\", \"most_frequent\", \"median\", \"random\"],\n",
    ") -> np.ndarray:\n",
    "    if strategy in [\"mean\", \"most_frequent\", \"median\"]:\n",
    "        return SimpleImputer(\n",
    "            strategy=strategy, missing_values=0, keep_empty_features=True\n",
    "        ).fit_transform(matrix)\n",
    "\n",
    "    new_matrix = matrix.copy()\n",
    "    new_matrix[~mask] = np.random.uniform(low=1, high=5, size=np.sum(~mask))\n",
    "    return new_matrix\n",
    "\n",
    "\n",
    "def svd_based(\n",
    "    initial_matrix: np.ndarray,\n",
    "    mask: np.ndarray,\n",
    "    rank: int | float,\n",
    "    iterations: int,\n",
    "    imputing_strategy: Literal[\"mean\", \"most_frequent\", \"median\", \"random\"] = \"mean\",\n",
    "    randomized_svd: bool = False,\n",
    "    verbose: bool = True,\n",
    "    diff_norm_stopping_criterion: Optional[float] = None,\n",
    "    seed: int = 420,\n",
    ") -> np.ndarray:\n",
    "    np.random.seed(seed)\n",
    "\n",
    "    # Initial imputing\n",
    "    matrix = impute(initial_matrix, mask, strategy=imputing_strategy)\n",
    "\n",
    "    r = rank\n",
    "    if isinstance(rank, float):\n",
    "        r = int(min(matrix.shape) * rank)\n",
    "\n",
    "    with tqdm.tqdm(range(iterations), disable=not verbose) as loop:\n",
    "        for _ in loop:\n",
    "            old_matrix = matrix[~mask].copy()\n",
    "\n",
    "            if randomized_svd:\n",
    "                u, s, vt = sklearn.utils.extmath.randomized_svd(\n",
    "                    matrix, n_components=r, random_state=seed\n",
    "                )\n",
    "                s = np.diag(s)\n",
    "\n",
    "            else:\n",
    "                u, s, vt = np.linalg.svd(matrix, full_matrices=False)\n",
    "                s = np.diag(s[:r])\n",
    "                u = u[:, :r]\n",
    "                vt = vt[:r, :]\n",
    "\n",
    "            matrix = u @ s @ vt\n",
    "\n",
    "            # Keep known values\n",
    "            matrix[mask] = initial_matrix[mask]\n",
    "\n",
    "            diff_norm = np.linalg.norm(matrix[~mask] - old_matrix)\n",
    "            if verbose:\n",
    "                loop.set_postfix({\"Difference norm\": diff_norm})\n",
    "\n",
    "            if (\n",
    "                diff_norm_stopping_criterion is not None\n",
    "                and diff_norm <= diff_norm_stopping_criterion\n",
    "            ):\n",
    "                break\n",
    "\n",
    "        return matrix"
   ]
  },
  {
   "cell_type": "code",
   "execution_count": 108,
   "metadata": {},
   "outputs": [
    {
     "data": {
      "text/plain": [
       "(array([[2.        , 3.        , 2.        , 2.92431594, 2.68232072],\n",
       "        [0.45829577, 2.        , 3.07384344, 4.        , 1.34197273],\n",
       "        [3.        , 4.46710247, 3.        , 4.37030923, 4.        ],\n",
       "        [1.55571574, 3.        , 2.91388923, 4.        , 2.45737367],\n",
       "        [1.07604102, 2.61790234, 3.09133014, 4.13588594, 2.        ],\n",
       "        [1.        , 2.49527507, 3.        , 4.        , 1.89301043]]),\n",
       " 1.22157424565747,\n",
       " {'rank': 0.5,\n",
       "  'iterations': 25,\n",
       "  'imputing_strategy': 'most_frequent',\n",
       "  'randomized_svd': False,\n",
       "  'verbose': False})"
      ]
     },
     "execution_count": 108,
     "metadata": {},
     "output_type": "execute_result"
    }
   ],
   "source": [
    "choose_best(\n",
    "    toy_matrix,\n",
    "    toy_mask,\n",
    "    svd_based,\n",
    "    lambda sol: rmse_score(toy_mask_full, sol, toy_test_mask),\n",
    "    {\n",
    "        \"rank\": [0.2, 0.3, 0.5],\n",
    "        \"iterations\": 25,\n",
    "        \"imputing_strategy\": [\"mean\", \"most_frequent\", \"median\", \"random\"],\n",
    "        \"randomized_svd\": [True, False],\n",
    "        \"verbose\": False,\n",
    "    },\n",
    ")"
   ]
  },
  {
   "cell_type": "code",
   "execution_count": 113,
   "metadata": {},
   "outputs": [
    {
     "name": "stderr",
     "output_type": "stream",
     "text": [
      "100%|██████████| 200/200 [03:45<00:00,  1.13s/it, Difference norm=3.65] \n"
     ]
    },
    {
     "data": {
      "text/plain": [
       "(array([[5.        , 3.38652131, 3.24441599, ..., 3.69182739, 3.84242649,\n",
       "         4.04154983],\n",
       "        [4.03643502, 3.1162232 , 2.98546013, ..., 3.39716101, 3.53573991,\n",
       "         3.71897005],\n",
       "        [4.15777447, 3.20990011, 3.07520617, ..., 3.49928321, 3.64202794,\n",
       "         3.83076616],\n",
       "        ...,\n",
       "        [3.86696185, 2.98538591, 2.86011304, ..., 3.2545283 , 3.38728886,\n",
       "         3.56282592],\n",
       "        [4.00175327, 3.08944806, 2.95980853, ..., 3.36797201, 3.50536022,\n",
       "         3.68701601],\n",
       "        [3.        , 2.9757912 , 2.85092094, ..., 3.2440686 , 3.37640248,\n",
       "         3.55137538]]),\n",
       " 2.646701411137743,\n",
       " {'rank': 1,\n",
       "  'iterations': 200,\n",
       "  'imputing_strategy': 'random',\n",
       "  'randomized_svd': True,\n",
       "  'verbose': True})"
      ]
     },
     "execution_count": 113,
     "metadata": {},
     "output_type": "execute_result"
    }
   ],
   "source": [
    "svd_sol, svd_score, svd_params = choose_best(\n",
    "    real_matrix,\n",
    "    real_mask,\n",
    "    svd_based,\n",
    "    lambda sol: rmse_score(real_mask_full, sol, real_test_mask),\n",
    "    {\n",
    "        \"rank\": [1],\n",
    "        \"iterations\": 200,\n",
    "        \"imputing_strategy\": \"random\",\n",
    "        \"randomized_svd\": True,\n",
    "        \"verbose\": True,\n",
    "    },\n",
    ")\n",
    "\n",
    "svd_sol, svd_score, svd_params"
   ]
  },
  {
   "cell_type": "code",
   "execution_count": 114,
   "metadata": {},
   "outputs": [],
   "source": [
    "save_solution(svd_sol, decimals=5)"
   ]
  }
 ],
 "metadata": {
  "kernelspec": {
   "display_name": ".venv",
   "language": "python",
   "name": "python3"
  },
  "language_info": {
   "codemirror_mode": {
    "name": "ipython",
    "version": 3
   },
   "file_extension": ".py",
   "mimetype": "text/x-python",
   "name": "python",
   "nbconvert_exporter": "python",
   "pygments_lexer": "ipython3",
   "version": "3.12.4"
  }
 },
 "nbformat": 4,
 "nbformat_minor": 2
}
